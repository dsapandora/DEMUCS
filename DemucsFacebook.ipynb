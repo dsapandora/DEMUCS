{
  "nbformat": 4,
  "nbformat_minor": 0,
  "metadata": {
    "colab": {
      "name": "DemucsFacebook.ipynb",
      "provenance": [],
      "collapsed_sections": [],
      "authorship_tag": "ABX9TyPHiK+qhPh/d0R3vDmwPlTj",
      "include_colab_link": true
    },
    "kernelspec": {
      "name": "python3",
      "display_name": "Python 3"
    }
  },
  "cells": [
    {
      "cell_type": "markdown",
      "metadata": {
        "id": "view-in-github",
        "colab_type": "text"
      },
      "source": [
        "<a href=\"https://colab.research.google.com/github/dsapandora/DEMUCS/blob/master/DemucsFacebook.ipynb\" target=\"_parent\"><img src=\"https://colab.research.google.com/assets/colab-badge.svg\" alt=\"Open In Colab\"/></a>"
      ]
    },
    {
      "cell_type": "markdown",
      "metadata": {
        "id": "JbVeZOVhHejE",
        "colab_type": "text"
      },
      "source": [
        "# Uso de la libreria DEMUCS para separar pistas de un archivo de audio.\n",
        "\n",
        "Lo primero que se debe hacer es la instalacion de **Anaconda**, que funcionara como sistema de gestion de liberias para el proyecto. (Esta primera etapa no es necesaria si ya tiene instalado ANACONDA en sus maquinas)\n",
        "## Descargar el software ananconda."
      ]
    },
    {
      "cell_type": "code",
      "metadata": {
        "id": "4Fk38XqsHwjJ",
        "colab_type": "code",
        "colab": {}
      },
      "source": [
        "!wget https://repo.anaconda.com/archive/Anaconda3-5.2.0-Linux-x86_64.sh && bash Anaconda3-5.2.0-Linux-x86_64.sh -bfp /usr/local\n"
      ],
      "execution_count": 0,
      "outputs": []
    },
    {
      "cell_type": "markdown",
      "metadata": {
        "id": "Xjo1p6nrII-1",
        "colab_type": "text"
      },
      "source": [
        "## Configurar el software Anaconda para ser cargado en e el entorno de Google Colab"
      ]
    },
    {
      "cell_type": "code",
      "metadata": {
        "id": "E4cwaxseIVT-",
        "colab_type": "code",
        "colab": {}
      },
      "source": [
        "import sys\n",
        "sys.path.append('/usr/local/lib/python3.6/site-packages')"
      ],
      "execution_count": 0,
      "outputs": []
    },
    {
      "cell_type": "markdown",
      "metadata": {
        "id": "wZHZmOItIzKR",
        "colab_type": "text"
      },
      "source": [
        "## Verificar si la instalacion ocurrio correctamente"
      ]
    },
    {
      "cell_type": "code",
      "metadata": {
        "id": "aPk4QusGJH-M",
        "colab_type": "code",
        "colab": {}
      },
      "source": [
        ""
      ],
      "execution_count": 0,
      "outputs": []
    }
  ]
}